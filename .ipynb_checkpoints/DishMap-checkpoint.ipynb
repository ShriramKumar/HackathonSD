{
 "cells": [
  {
   "cell_type": "code",
   "execution_count": 22,
   "metadata": {
    "collapsed": false
   },
   "outputs": [],
   "source": [
    "#Getting the data\n",
    "import pandas as pd\n",
    "from sets import Set\n",
    "\n",
    "df = pd.read_csv(\"srep00196-s2.csv\",header=None)\n",
    "unique_ingredients = [i for i in df[0].unique()]\n",
    "unique_ingredients = set(unique_ingredients + [i for i in df[1].unique()])\n",
    "\n",
    "with open(\"Ingredients.csv\",\"w\") as f:\n",
    "    for i in unique_ingredients:\n",
    "        f.write(i + '\\n')"
   ]
  },
  {
   "cell_type": "code",
   "execution_count": null,
   "metadata": {
    "collapsed": true
   },
   "outputs": [],
   "source": [
    "from scipy.sparse import coo_matrix,csr_matrix\n",
    "from sklearn.neighbors import NearestNeighbors\n",
    "from ingredientParser import ingredientParser as ingr_parser\n",
    "\n",
    "class FlavorModel:\n",
    "    \n",
    "    def __init__(self,recipe_db,ingr_flavor_mapping,ingr_labels,flavor_labels):\n",
    "        \n",
    "        self.ingr_flavor_map = np.zeros((ingr_labels.shape[0],flavor_labels.shape[0]))\n",
    "\n",
    "        self.ingr_map = dict()\n",
    "        for row in ingr_labels.iterrows():\n",
    "            self.ingr_map[row[1][1]] = row[1][0]\n",
    "\n",
    "        for row in ingr_flavor_mapping.iterrows():\n",
    "            self.ingr_flavor_map[row[1][0],row[1][1]] = 1\n",
    "        \n",
    "        self.parser = ingr_parser(self.ingr_map.keys())\n",
    "        \n",
    "        rsums = ingr_flavor_map.sum(axis = 1)\n",
    "        self.ingr_flavor_map = ingr_flavor_map / rsums[:,np.newaxis]\n",
    "        \n",
    "        dishIndexList = []\n",
    "        self.dishNameIndexMap = dict()\n",
    "        self.dishIndexNameMap = dict()\n",
    "        \n",
    "        for index,dish in enumerate(receipe_db['title']):\n",
    "            self.dishNameIndexMap[dish] = index\n",
    "            self.dishIndexNameMap[index] = dish\n",
    "            \n",
    "            for ing in dish['ingredients']\n",
    "                ingr_name = self.search_string(ing[\"text\"])\n",
    "                if ingr_name in self.ingr_map:\n",
    "                    dishIndexList.append( (ing[\"weight\"],index,self.ingr_map[ingr_name]) )\n",
    "        \n",
    "        data,row_index,col_index = zip(*dishIndexList)\n",
    "        \n",
    "        self.dish_matrix = coo_matrix( (data,(row_index,col_index)) ).tocsc()\n",
    "        \n",
    "        self.dish_mappings = np.dot(self.dish_matrix,self.ingr_flavor_map)\n",
    "        \n",
    "        self.nnModel = NearestNeighbors(n_neighbors=10,n_jobs=8)\n",
    "        self.nnModel.fit(self.dish_mappings)\n",
    "    \n",
    "    def queryDish(self,dishName,numberNeighbors = 10):\n",
    "        \n",
    "        dishIndex = self.dishNameIndexMap[dishName]\n",
    "        neighbors = self.nnModel.kneighbors(self.dish_matrix[dishIndex,:],n_neighbors = numberNeighbors)\n",
    "        \n",
    "        neighborNames = [self.dishIndexNameMap[i] for i in neighbors]\n",
    "        return neighborNames\n",
    "    \n",
    "    def queryIngredients(self,ingrList,numberNeighbors = 10):\n",
    "        \n",
    "        example = np.zeros((,self.ingr_flavor_map.shape[0]))\n",
    "        \n",
    "        for ing in ingrList:\n",
    "            if ingr_name in self.ingr_map:\n",
    "                example[self.ingr_map[ingr_name]] += 1\n",
    "        \n",
    "        neighbors = self.nnModel.kneighbors(example,n_neighbors = numberNeighbors)\n",
    "        \n",
    "        neighborNames = [self.dishIndexNameMap[i] for i in neighbors]\n",
    "        return neighborNames"
   ]
  }
 ],
 "metadata": {
  "kernelspec": {
   "display_name": "Python 2",
   "language": "python",
   "name": "python2"
  },
  "language_info": {
   "codemirror_mode": {
    "name": "ipython",
    "version": 2
   },
   "file_extension": ".py",
   "mimetype": "text/x-python",
   "name": "python",
   "nbconvert_exporter": "python",
   "pygments_lexer": "ipython2",
   "version": "2.7.11"
  }
 },
 "nbformat": 4,
 "nbformat_minor": 0
}
