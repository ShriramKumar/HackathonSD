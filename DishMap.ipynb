{
 "cells": [
  {
   "cell_type": "code",
   "execution_count": 22,
   "metadata": {
    "collapsed": false
   },
   "outputs": [],
   "source": [
    "#Getting the data\n",
    "import pandas as pd\n",
    "from sets import Set\n",
    "\n",
    "df = pd.read_csv(\"srep00196-s2.csv\",header=None)\n",
    "unique_ingredients = [i for i in df[0].unique()]\n",
    "unique_ingredients = set(unique_ingredients + [i for i in df[1].unique()])\n",
    "\n",
    "with open(\"Ingredients.csv\",\"w\") as f:\n",
    "    for i in unique_ingredients:\n",
    "        f.write(i + '\\n')\n",
    "\n",
    "#print unique_ingredients\n",
    "#print unique_ingredients.pop()\n",
    "#unique_ingredients = "
   ]
  },
  {
   "cell_type": "code",
   "execution_count": null,
   "metadata": {
    "collapsed": true
   },
   "outputs": [],
   "source": [
    "class FlavorModel:\n",
    "    \n",
    "    def __init__(self,recipe_db,ingr_flavor_mapping,ingr_labels,flavor_labels):\n",
    "        \n",
    "        self.ingr_flavor_map = np.zeros((ingr_labels.shape[0],flavor_labels.shape[0]))\n",
    "\n",
    "        self.ingr_map = dict()\n",
    "        for row in ingr_labels.iterrows():\n",
    "            self.ingr_map[row[1][1]] = row[1][0]\n",
    "\n",
    "        for row in ingr_flavor_mapping.iterrows():\n",
    "            self.ingr_flavor_map[row[1][0],row[1][1]] = 1\n",
    "\n",
    "        rsums = ingr_flavor_map.sum(axis = 1)\n",
    "        self.ingr_flavor_map = ingr_flavor_map / rsums[:,np.newaxis]\n",
    "        \n",
    "        for index,dish in enumerate(receipe_db['title']):\n",
    "            [(index,self.ing_map[ing[0]],) for ing in dish['ingredients']]\n",
    "            \n",
    "            \n",
    "            \n",
    "        \n",
    "        "
   ]
  },
  {
   "cell_type": "code",
   "execution_count": 68,
   "metadata": {
    "collapsed": false
   },
   "outputs": [
    {
     "name": "stdout",
     "output_type": "stream",
     "text": [
      "[[ 0.          0.          0.         ...,  0.          0.          0.        ]\n",
      " [ 0.          0.          0.         ...,  0.          0.          0.        ]\n",
      " [ 0.          0.          0.         ...,  0.          0.          0.        ]\n",
      " ..., \n",
      " [ 0.00507614  0.00507614  0.         ...,  0.00507614  0.          0.        ]\n",
      " [ 0.          0.          0.         ...,  0.          0.          0.        ]\n",
      " [ 0.          0.          0.         ...,  0.          0.          0.        ]]\n"
     ]
    }
   ],
   "source": [
    "from collections import defaultdict\n",
    "import numpy as np\n",
    "\n",
    "ingr_flavor_mapping = pd.read_csv(\"Data/ingr_comp.tsv\",sep=\"\\t\")\n",
    "ingr_labels = pd.read_csv(\"Data/ingr_info.tsv\",sep=\"\\t\")\n",
    "flavor_labels = pd.read_csv(\"Data/comp_info.tsv\",sep=\"\\t\")\n",
    "\n",
    "ingr_flavor_map = np.zeros((ingr_labels.shape[0],flavor_labels.shape[0]))\n",
    "\n",
    "ingr_map = dict()\n",
    "for row in ingr_labels.iterrows():\n",
    "    ingr_map[row[1][1]] = row[1][0]\n",
    "\n",
    "for row in ingr_flavor_mapping.iterrows():\n",
    "    ingr_flavor_map[row[1][0],row[1][1]] = 1\n",
    "\n",
    "rsums = ingr_flavor_map.sum(axis = 1)\n",
    "ingr_flavor_map = ingr_flavor_map / rsums[:,np.newaxis]"
   ]
  },
  {
   "cell_type": "code",
   "execution_count": 74,
   "metadata": {
    "collapsed": false
   },
   "outputs": [
    {
     "name": "stdout",
     "output_type": "stream",
     "text": [
      "   0  1  2\n",
      "a  1  2  3\n",
      "c  7  8  9\n",
      "b  4  5  6\n",
      "   a  c  b\n",
      "0  1  7  4\n",
      "1  2  8  5\n",
      "2  3  9  6\n"
     ]
    },
    {
     "data": {
      "text/html": [
       "<div>\n",
       "<table border=\"1\" class=\"dataframe\">\n",
       "  <thead>\n",
       "    <tr style=\"text-align: right;\">\n",
       "      <th></th>\n",
       "      <th>0</th>\n",
       "      <th>1</th>\n",
       "      <th>2</th>\n",
       "      <th>a</th>\n",
       "      <th>b</th>\n",
       "      <th>c</th>\n",
       "    </tr>\n",
       "  </thead>\n",
       "  <tbody>\n",
       "    <tr>\n",
       "      <th>0</th>\n",
       "      <td>NaN</td>\n",
       "      <td>NaN</td>\n",
       "      <td>NaN</td>\n",
       "      <td>NaN</td>\n",
       "      <td>NaN</td>\n",
       "      <td>NaN</td>\n",
       "    </tr>\n",
       "    <tr>\n",
       "      <th>1</th>\n",
       "      <td>NaN</td>\n",
       "      <td>NaN</td>\n",
       "      <td>NaN</td>\n",
       "      <td>NaN</td>\n",
       "      <td>NaN</td>\n",
       "      <td>NaN</td>\n",
       "    </tr>\n",
       "    <tr>\n",
       "      <th>2</th>\n",
       "      <td>NaN</td>\n",
       "      <td>NaN</td>\n",
       "      <td>NaN</td>\n",
       "      <td>NaN</td>\n",
       "      <td>NaN</td>\n",
       "      <td>NaN</td>\n",
       "    </tr>\n",
       "    <tr>\n",
       "      <th>a</th>\n",
       "      <td>NaN</td>\n",
       "      <td>NaN</td>\n",
       "      <td>NaN</td>\n",
       "      <td>NaN</td>\n",
       "      <td>NaN</td>\n",
       "      <td>NaN</td>\n",
       "    </tr>\n",
       "    <tr>\n",
       "      <th>b</th>\n",
       "      <td>NaN</td>\n",
       "      <td>NaN</td>\n",
       "      <td>NaN</td>\n",
       "      <td>NaN</td>\n",
       "      <td>NaN</td>\n",
       "      <td>NaN</td>\n",
       "    </tr>\n",
       "    <tr>\n",
       "      <th>c</th>\n",
       "      <td>NaN</td>\n",
       "      <td>NaN</td>\n",
       "      <td>NaN</td>\n",
       "      <td>NaN</td>\n",
       "      <td>NaN</td>\n",
       "      <td>NaN</td>\n",
       "    </tr>\n",
       "  </tbody>\n",
       "</table>\n",
       "</div>"
      ],
      "text/plain": [
       "    0   1   2   a   b   c\n",
       "0 NaN NaN NaN NaN NaN NaN\n",
       "1 NaN NaN NaN NaN NaN NaN\n",
       "2 NaN NaN NaN NaN NaN NaN\n",
       "a NaN NaN NaN NaN NaN NaN\n",
       "b NaN NaN NaN NaN NaN NaN\n",
       "c NaN NaN NaN NaN NaN NaN"
      ]
     },
     "execution_count": 74,
     "metadata": {},
     "output_type": "execute_result"
    }
   ],
   "source": [
    "d = {'a':[1,2,3],'b':[4,5,6],'c':[7,8,9]}\n",
    "df = pd.DataFrame.from_dict(d,orient = 'index')\n",
    "print df\n",
    "print df.transpose()\n",
    "#from sklearn.neighbors import NearestNeighbors\n",
    "#model = NearestNeighbors(n_neighbors = 10)\n",
    "\n",
    "#model.fit(d)\n",
    "\n",
    "df.multiply(df.transpose())\n"
   ]
  },
  {
   "cell_type": "code",
   "execution_count": 64,
   "metadata": {
    "collapsed": false
   },
   "outputs": [
    {
     "data": {
      "text/plain": [
       "(2, 3)"
      ]
     },
     "execution_count": 64,
     "metadata": {},
     "output_type": "execute_result"
    }
   ],
   "source": [
    "x = defaultdict(int)\n",
    "x['a'] = 1\n",
    "x['b'] = 2\n",
    "\n",
    "y = defaultdict(int)\n",
    "y['a'] = 1\n",
    "y['c'] = 2\n",
    "\n",
    "df = pd.DataFrame.from_dict([x,y])\n",
    "\n",
    "df.shape"
   ]
  }
 ],
 "metadata": {
  "kernelspec": {
   "display_name": "Python 2",
   "language": "python",
   "name": "python2"
  },
  "language_info": {
   "codemirror_mode": {
    "name": "ipython",
    "version": 2
   },
   "file_extension": ".py",
   "mimetype": "text/x-python",
   "name": "python",
   "nbconvert_exporter": "python",
   "pygments_lexer": "ipython2",
   "version": "2.7.11"
  }
 },
 "nbformat": 4,
 "nbformat_minor": 0
}
