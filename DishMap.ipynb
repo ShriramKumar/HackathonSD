{
 "cells": [
  {
   "cell_type": "code",
   "execution_count": 22,
   "metadata": {
    "collapsed": false
   },
   "outputs": [],
   "source": [
    "#Getting the data\n",
    "import pandas as pd\n",
    "from sets import Set\n",
    "\n",
    "df = pd.read_csv(\"srep00196-s2.csv\",header=None)\n",
    "unique_ingredients = [i for i in df[0].unique()]\n",
    "unique_ingredients = set(unique_ingredients + [i for i in df[1].unique()])\n",
    "\n",
    "with open(\"Ingredients.csv\",\"w\") as f:\n",
    "    for i in unique_ingredients:\n",
    "        f.write(i + '\\n')\n",
    "\n",
    "#print unique_ingredients\n",
    "#print unique_ingredients.pop()\n",
    "#unique_ingredients = "
   ]
  },
  {
   "cell_type": "code",
   "execution_count": null,
   "metadata": {
    "collapsed": true
   },
   "outputs": [],
   "source": [
    "from scipy.sparse import coo_matrix,csr_matrix\n",
    "from sklearn.neighbors import NearestNeighbors\n",
    "\n",
    "class FlavorModel:\n",
    "    \n",
    "    def __init__(self,recipe_db,ingr_flavor_mapping,ingr_labels,flavor_labels):\n",
    "        \n",
    "        self.ingr_flavor_map = np.zeros((ingr_labels.shape[0],flavor_labels.shape[0]))\n",
    "\n",
    "        self.ingr_map = dict()\n",
    "        for row in ingr_labels.iterrows():\n",
    "            self.ingr_map[row[1][1]] = row[1][0]\n",
    "\n",
    "        for row in ingr_flavor_mapping.iterrows():\n",
    "            self.ingr_flavor_map[row[1][0],row[1][1]] = 1\n",
    "        \n",
    "        self.parser = ingr_parser(self.ingr_map.keys())\n",
    "        \n",
    "        rsums = ingr_flavor_map.sum(axis = 1)\n",
    "        self.ingr_flavor_map = ingr_flavor_map / rsums[:,np.newaxis]\n",
    "        \n",
    "        dishIndexList = []\n",
    "        self.dishNameIndexMap = dict()\n",
    "        self.dishIndexNameMap = dict()\n",
    "        \n",
    "        for index,dish in enumerate(receipe_db['title']):\n",
    "            self.dishNameIndexMap[dish] = index\n",
    "            self.dishIndexNameMap[index] = dish\n",
    "            \n",
    "            for ing in dish['ingredients']\n",
    "                ingr_name = self.parser(ing[\"text\"])\n",
    "                if ingr_name in self.ingr_map:\n",
    "                    dishIndexList.append( (ing[\"weight\"],index,self.ingr_map[ingr_name]) )\n",
    "        \n",
    "        data,row_index,col_index = zip(*dishIndexList)\n",
    "        \n",
    "        self.dish_matrix = coo_matrix( (data,(row_index,col_index)) ).tocsc()\n",
    "        \n",
    "        self.dish_mappings = np.dot(self.dish_matrix,self.ingr_flavor_map)\n",
    "        \n",
    "        self.nnModel = NearestNeighbors(n_neighbors=10,n_jobs=8)\n",
    "        self.nnModel.fit(self.dish_mappings)\n",
    "    \n",
    "    def queryDish(self,dishName,numberNeighbors = 10):\n",
    "        \n",
    "        dishIndex = self.dishNameIndexMap[dishName]\n",
    "        neighbors = self.nnModel.kneighbors(self.dish_matrix[dishIndex,:],n_neighbors = numberNeighbors)\n",
    "        \n",
    "        neighborNames = [self.dishIndexNameMap[i] for i in neighbors]\n",
    "        return neighborNames\n",
    "    \n",
    "    def queryIngredients(self,ingrList,numberNeighbors = 10):\n",
    "        \n",
    "        example = np.zeros((,self.ingr_flavor_map.shape[0]))\n",
    "        \n",
    "        for ing in ingrList:\n",
    "            if ingr_name in self.ingr_map:\n",
    "                example[self.ingr_map[ingr_name]] += 1\n",
    "        \n",
    "        neighbors = self.nnModel.kneighbors(example,n_neighbors = numberNeighbors)\n",
    "        \n",
    "        neighborNames = [self.dishIndexNameMap[i] for i in neighbors]\n",
    "        return neighborNames"
   ]
  },
  {
   "cell_type": "code",
   "execution_count": 75,
   "metadata": {
    "collapsed": false
   },
   "outputs": [
    {
     "name": "stdout",
     "output_type": "stream",
     "text": [
      "['magnolia_tripetala', 'calyptranthes_parriculata', 'chamaecyparis_pisifera_oil', 'mackerel', 'mimusops_elengi_flower', 'hyssop', 'buchu', 'black_pepper', 'eryngium_poterium_oil', 'peanut_butter', 'artemisia_verlo', 'agastache_rugosa', 'satureia_thymera', 'petitgrain', 'orris_root', 'black_mustard_seed_oil', 'celery_oil', 'red_bean', 'almond', 'bacon', 'lavender', 'black_chokecherry', 'abies_canadensis', 'petitgrain_lemon', 'keta_salmon', 'umbelliferae', 'milk_fat', 'acacia_flower_oil', 'nezara_viridula', 'lemon_tree', 'litchi', 'filbert', 'yellow_passion_fruit_juice', 'estragon_oil', 'congo_geranium', 'rose_oil', 'vervain_leaf', 'smoke', 'toasted_oat', 'reunion_geranium', 'kabosu_peel_oil', 'soybean', 'wintergreen_leaf', 'eucalyptus_hemilampra', 'jammus_citronella_oil', 'spike', 'blueberry', 'musk', 'callitris_glauca', 'red_currant', 'myrrh', 'pecan', 'cicuta_virosa_oil', 'purple_passion_fruit_juice', 'caja_fruit', 'juniper_leaf_oil', 'madagascar_cinnamon_leaf_oil', 'smoked_sausage', 'wort', 'celery_seed', 'root', 'chayote', 'beet_juice', 'dolphin', 'honey', 'agarwood', 'litsea_odorifera', 'mentha_crispa', 'american_peppermint_oil', 'cottage_cheese', 'bulgarian_clary_sage', 'solidago_odora', 'hop', 'paraguay_petitgrain', 'smoked_summer_sausage', 'myrocarpus_fastigiatus', 'eucalyptus_dives', 'picea_orientalis', 'tulip', 'ligusticum_acutilobum_oil', 'nutmeg_oil', 'matricaria_parthenium_oil', 'valencia_orange_juice', 'wine', 'piper_famechoni', 'carphephorus_corymbosus_leaf', 'tsuga_canadensis_oil', 'orange_juice', 'fagara_zanthoxyloides_oil', 'petitgrain_lemon_oil', 'guava_peel', 'bitter_orange', 'roasted_sesame_seed', 'avocado', 'clary_sage', 'blackberry_juice', 'tomato_juice', 'fig', 'american_storax', 'savory', 'pickled_plum', 'trassi', 'abies_concolor', 'castoreum', 'bread', 'wild_vanilla', 'meat', 'thuja_articulata_bark_oil', 'nemuaron_humboldtii_oil', 'citrus_peel', 'robinia_pseudoacacia', 'rosemary', 'prawn', 'thujopsis_dolabrata', 'turnip', 'sweet_potato', 'black_sesame_seed', 'ribes', 'mentha', 'vitis_labrusca_juice', 'eucalyptus_citriodora', 'dried_black_tea', 'roasted_hazelnut', 'melaleuca_oil', 'phellodendron_amurense', 'sesame_oil', 'boronia_dentigeroides_oil', 'several_oil', 'saxifragaceae', 'bachang', 'smoked_pork', 'thea_chinensis_oil', 'luvunga_scadens_oil', 'salmon_caviar', 'rutaceae', 'cheddar_cheese', 'field_mint_oil', 'winter_savory', 'birch', 'lettuce', 'tamarind', 'ceylon_tea', 'yellow_mombin', 'cod_liver_oil', 'polyalthia_canangioides_flower', 'licorice', 'tilsit_cheese', 'estragon', 'dwarf_quince', 'cereal', 'hazelnut', 'orthodon_tenuicaule_oil', 'sauvignon_grape', 'green_mate', 'pittosporum_glabratum', 'auricula_oil', 'trifolium_pratense_leaf_oil', 'honey_fungus', 'litsea_guatemalensis_oil', 'tonka_bean_seed', 'bulgarian_clary_sage_oil', 'cinnamomum', 'ginger', 'seed', 'mint', 'hogweed_oil', 'crepis_foetida_root', 'goat_cheese', 'cymbopogon_javanensis', 'buchu_oil', 'key_lime_leaf', 'sugarcane', 'black_chokeberry', 'anise_brandy', 'cupressus_macrocarpa_oil', 'ylangylang_oil', 'parmesan_cheese', 'hernandia_peltata_oil', 'wood_oil', 'watercress', 'boronia_citriodora', 'eremocitrus_glauca', 'passion_fruit_juice', 'macadamia_nut', 'piri_piri', 'nettle', 'pineapple', 'scotch', 'armagnac', 'japanese_mint', 'orange_flower_oil', 'tequila', 'eucalyptus_globulus', 'japanese_seafood', 'fennel', 'radish_oil', 'chamomile', 'shellfish', 'grapefruit_peel', 'wood_spirit', 'celery', 'vanilla_oil', 'mung_bean', 'rice', 'italian_orange_oil', 'sour_milk', 'asarum_canadense_root_oil', 'cypress_oil', 'watermelon', 'sheep_cheese', 'goat_milk', 'raw_pork', 'bay', 'whitefish', 'curcuma_aeruginosa', 'artemisia_transiliensis', 'grape_juice', 'florida_orange_juice', 'nut', 'malt_whiskey', 'artemisia_cina', 'schizandra_oil', 'pandanus_odoratissimus', 'michelia', 'tea_oil', 'bitter_orange_flower_oil', 'artemisia_santolinifolia', 'yogurt', 'lemon_peel', 'california_orange', 'jasmine', 'orange_tree', 'raspberry_juice', 'huckleberry', 'barosma_betulina', 'cod', 'clove_pink', 'boronia_anemonifolia', 'rosa_centifolia', 'calamus', 'lime_juice', 'french_peppermint_oil', 'kaschmis_citronella_oil', 'eucalyptus_dives_oil', 'litsea_odorifera_leaf_oil', 'beef', 'shiitake', 'bitter_fennel', 'parsley', 'helichrysum_angustifolium', 'fermented_tea', 'grapefruit', 'beet', 'basil', 'kelp', 'mastic_gum_leaf_oil', 'roasted_beef', 'chrysocoris_stolli', 'mushroom', 'baked_potato', 'bitter_orange_juice', 'violet_leaf', 'sweetfish', 'myrrh_oil', 'lemongrass_oil', 'boronia_ledifolia_oil', 'petitgrain_lime', 'rosa_bourboniana_oil', 'chervil', 'eriostemon_coxii_leaf_oil', 'larch_tree', 'barosma_pulchella_leaf_oil', 'litsea_guatemalensis', 'tunisian_rosemary', 'artemisia_camphorata', 'pine_turpentine', 'achillea_micrantha_oil', 'maple_syrup', 'acacia_farnesiana_oil', 'xanthorrhoea_hostilis', 'manila_copal', 'carnation', 'vegetable', 'calabash_nutmeg', 'chamaecyparis_pisifera', 'sheep_milk', 'papaya', 'litsea_zeylanica_oil', 'carpinus_betulus', 'russian_star_anise', 'rabbiteye_blueberry', 'garlic', 'narcissus_oil', 'tuna', 'cherry_juice', 'butter', 'hyacinth_oil', 'irish_whiskey', 'chrysanthemum_japonicum', 'orange_peel', 'kale', 'heracleum_villosum_oil', 'malabar_lemongrass_oil', 'calytrix_tetragona_oil', 'achillea_ageratum', 'ham', 'cherry', 'satsuma_mandarin_peel_oil', 'yellow_passion_fruit', 'pandanus_odoratissimus_oil', 'strawberry_oil', 'cognac', 'rubus_arcticus', 'galanga', 'roasted_mate', 'guineafowl', 'honduras_balsam', 'boiled_crab', 'soursop', 'finocchoi_fennel_oil', 'fried_chicken', 'fermented_russian_black_tea', 'cassis_juice', 'orchid', 'okra', 'annona_reticulata', 'eucalyptus_diversicolor_oil', 'ximenia_aegyptiaca', 'buckwheat', 'bergamot_oil', 'corn', 'phebalium_nudum_root_oil', 'taiwan_citronella', 'benzoin', 'lingonberry', 'boldo', 'plum', 'farnesol', 'teucrium_chamaedrys', 'seed_oil', 'solanaceae', 'storax', 'ruta_chalepensis_oil', 'passiflora_mollissima', 'mastic_gum_oil', 'copaiba', 'summer_savory', 'fagroea_racemosa_flower', 'blenheim_apricot', 'gin', 'ceriman', 'hop_oil', 'litsea_citrata', 'mate_leaf', 'lovage_root', 'turpentine', 'polysiphonia_fastigiata', 'agastache_formosana', 'temple_orange_juice', 'grilled_beef', 'whiskey', 'erica_arborea_oil', 'melilotus_officinalis', 'elettaria_caradmomum_oil', 'myrtaceae_oil', 'cupressaceae_oil', 'black_seabream', 'brazilian_sassafras_oil', 'mexican_linaloe', 'cassia', 'capsicum_annuum', 'zanthoxylum_rhetsa_oil', 'starfruit', 'strawberry_jam', 'red_meat', 'toasted_sesame_seed', 'leek', 'spearmint_oil', 'tsuga_canadensis', 'monarda_fisulosa', 'fried_pork', 'rapeseed', 'acacia_caven', 'caraway', 'cabreuva', 'potato', 'cherry_brandy', 'artemisia_arborescens', 'galbanum_oil', 'eucalyptus_oil', 'lemon_juice', 'sunflower_oil', 'buchu_leaf_oil', 'brazil_nut', 'garlic_mustard', 'anise_seed', 'milk', 'american_peppermint', 'purple_passion_fruit', 'grape', 'jasmine_oil', 'camembert_cheese', 'citronella_oil', 'violet_flower_oil', 'melon', 'boldea_fragrans', 'thai_pepper', 'yeast', 'grape_brandy', 'laminaria_japonica', 'bartlett_pear', 'bitter_orange_peel_oil', 'mentha_citrata', 'loganberry', 'thuja_occidentalis', 'mentha_viridis', 'wood_vinegar', 'pork', 'oxidized_milk', 'currant', 'angelica_oil', 'european_cranberry', 'frankfurter', 'pomelo_peel', 'garlic_oil', 'spanish_origanum', 'boletus_scaber', 'juniperus_phoenicea_oil', 'artemisia_hausiliensis', 'palm_oil', 'corn_flake', 'dried_spinach', 'vachellia_farnesiana', 'perovski_abrotanoides_oil', 'highbush_blueberry', 'barosma_pulchella_oil', 'niaouli_oil', 'pinus_sylvestris', 'raw_pea', 'cinnamon', 'monodora_grandiflora', 'carob', 'passion_fruit_wine', 'lemon_peel_oil', 'radish', 'seseli_tortuosum', 'lemon_oil', 'iberis_sempervirens_seed', 'citrus_leaf_oil', 'pinus_densiflora', 'vetiver_oil', 'raw_chicken', 'japanese_calamus', 'patchouli_oil', 'raw_bean', 'sake', 'citrus_peel_oil', 'elsholtzia_ciliata', 'bael', 'botrytized_wine', 'lavender_delphinensis', 'sassafras_root_oil', 'angelica_root_oil', 'kola_tea', 'cacao', 'corn_oil', 'cumin_oil', 'olive', 'spearmint', 'japanese_hop_oil', 'butterfat', 'sumatra_benzoin', 'pinus_sabiniana_terpentine', 'apple_sauce', 'roasted_macadamia_nut', 'thlaspi_arvense_oil', 'eucalyptus_maideni', 'raspberry_oil', 'raw_asparagus', 'imperatoria', 'chrysanthemum_sincuse_flower', 'malabar_cardamom_oil', 'gelatin', 'crisp_bread', 'date', 'limburger_cheese', 'octopus', 'mango', 'cape_gooseberry', 'lindera_citriodora', 'coconut_oil', 'pinus_excelsa', 'rafanus_sativus_root', 'american_sassafras_oil', 'chinese_star_anise_oil', 'boiled_chicken', 'artemisia_scoparia', 'chickpea', 'dried_green_tea', 'kumquat_peel_oil', 'dacrydium_franklinii_oil', 'artemisia_maritime_oil', 'artemisia_frigida', 'italian_lime', 'pittosporum_flower', 'orange_peel_oil', 'thymus', 'bantu_beer', 'melilotus_albus_leaf', 'ceanothus_velutinus_leaf', 'asian_storax', 'boldo_leaf', 'cinchona_officinalis', 'beef_broth', 'cistus_ladaniferus', 'sesame_seed_oil', 'myrtle', 'rye_flour', 'larix_americana', 'orange_leaf_oil', 'french_lavender', 'doryphora_sassafras_leaf_oil', 'aconitum_napellus', 'hybrid_passion_fruit_juice', 'carphephorus_paniculatus_leaf', 'lesquerella_seed', 'cheese', 'randia_formosa_flower', 'citronella_grass', 'quercus_olive', 'siam_benzoin', 'asarum_europaeum_root_oil', 'cassava', 'muscadine_grape', 'valerian_oil', 'loiseleuria_procumbens', 'mentha_verticillata', 'valencia_orange_oil', 'citronella', 'english_peppermint_oil', 'celery_root', 'senecio_kaempferi', 'while_thyme_oil', 'chestnut_honey', 'magnolia_salicifolia_oil', 'cane_molasses', 'coconut', 'grape_vine', 'chamaecyparis_formosensis_oil', 'port_wine', 'fortunella_margarita', 'fermented_radish', 'blumea_malcomii_oil', 'berry_bud', 'eucalyptus_citriodora_oil', 'penang_benzoin', 'shoro', 'california_orange_peel', 'cinnamomum_cassia_oil', 'palmarosa_oil', 'wild_berry', 'egg', 'satsuma_mandarin_peel', 'petitgrain_lime_oil', 'artemisia_juncea', 'achasma_walang', 'chinese_star_anise', 'uncured_boiled_pork', 'rye_bread', 'beech', 'red_sage', 'boiled_meat', 'arrack', 'nectarine', 'mantis_shrimp', 'levisticum_acutilobum', 'pumpkin', 'fermented_tea_leaf_oil', 'spearmint_scotch_oil', 'wild_strawberry', 'cumin', 'mustard_greens_oil', 'backhousia_citriodora', 'hinoki_oil', 'chinese_cinnamon', 'seal', 'artemisia_tridentata', 'honeydew', 'roasted_peanut', 'petrosimonia_monandra', 'roasted_meat', 'mandarin', 'leaf_oil', 'winter_melon', 'caucus', 'labdanum', 'cantaloupe', 'japanese_peppermint', 'oak_leaf', 'brassica', 'finnish_whiskey', 'alpinia_malaccensis', 'elderberry_juice', 'auto_oxidized_salmon_oil', 'domiati_cheese', 'mexican_lime', 'comte_cheese', 'raw_lean_fish', 'mentha_silvestris_oil', 'ceylon_tea_cinnamon_leaf', 'berry', 'sudachi', 'cinnamon_leaf_oil', 'ceylon_citronella_oil', 'navy_bean', 'tabasco_pepper', 'zanthoxylum_piperitum', 'turkey', 'spermaceti_oil', 'leptospermum_citratum', 'red_wine', 'squash', 'thymus_zygis', 'indian_hemp', 'jamaican_rum', 'mashed_potato', 'boiled_beef', 'green_tea_oil', 'grape_syrup', 'coriander_oil', 'ledum_palustre', 'passion_fruit', 'coffee', 'magnolia_oil', 'red_kidney_bean', 'cocoa_liquor', 'cryptomeria_japonica', 'calytrix_virgata', 'acacia', 'macaroni', 'catfish', 'sapodilla', 'zanthoxylum_rhetsa', 'cocoa_leaf', 'cloudberry', 'hogweed', 'babaco', 'salmon_roe', 'brown_rice', 'eryngium_poterium', 'eucalyptus', 'choke_cherry', 'waste_wort', 'veal', 'boswellia_serrata_oil', 'piper_officinarum', 'nectandra_elaiophora', 'bitter_orange_leaf', 'wild_grape', 'cilantro', 'crimean_white_grape_oil', 'prunus', 'rose', 'anise_hyssop', 'cayenne', 'bulgarian_rose_oil', 'grapefruit_oil', 'eucalyptus_amygdalina', 'melissa_oil', 'vitis', 'jonquil', 'citrus_limetta_oil', 'endive', 'roasted_cocoa', 'boiled_pork', 'clam', 'thyme', 'blackberry', 'geranium_oil', 'morus_bombycis_oil', 'lobster', 'corn_mint', 'sphaeranthus_indicus_oil', 'chicken_liver', 'origanum', 'scotch_spearmint_oil', 'marula', 'mastic_gum_fruit_oil', 'graminaceae', 'brazil_peppermint_oil', 'zingiberaceae', 'roasted_chicory_root', 'salvia_spinosa', 'brazil_rosewood', 'smoked_herring', 'shrimp', 'pistachio', 'swiss_cheese', 'wild_rice', 'chive', 'sea_buckthorn', 'lavender_oil', 'orange_leaf', 'phellodendron_japonicum', 'white_bread', 'orange_oil', 'cured_pork', 'melaleuca_smithii', 'anise', 'american_potato_chip', 'mandarin_leaf_oil', 'java_citronella', 'clary_sage_bush', 'star_anise_oil', 'mimosa_oil', 'spanish_origanum_oil', 'raw_lamb', 'sauerkraut', 'strawberry', 'rice_bran', 'elsholtzia_argyi', 'elder_flower', 'palmarosa', 'sherry_wine', 'mandarin_peel_oil', 'cream', 'angelica', 'basil_oil', 'pinus_jeffreyi_terpentine', 'verbena_oil', 'roasted_almond', 'monarda_punctata', 'orris', 'clary_sage_oil', 'larix', 'wax_jambu', 'pear', 'dill_seed', 'brandy', 'butter_oil', 'california_pepper', 'oregano_oil', 'globefish', 'roasted_turkey', 'lemon_balm', 'rosa_borbonica', 'cinnamomum_camphora', 'brussels_sprout', 'spanish_sage', 'cananga', 'parmesan', 'porcini', 'roman_chamomile', 'ginger_oil', 'dairy', 'pickled_ham', 'litsea_cubeba_fruit', 'lima_bean', 'gardenia_flower_oil', 'helichrysum_italicum', 'kidney_bean', 'vitis_labrusca', 'apple_brandy', 'spike_oil', 'passiflora_edulis_juice', 'dacrydium_colensoi', 'cinnamon_oil', 'snap_bean', 'egg_noodle', 'michelia_champaca_oil', 'borosma_pulchellum', 'papaver_somniferum', 'bay_laurel_oil', 'lovage_leaf', 'wallflower', 'ethiopian_pepper', 'tea', 'plum_brandy', 'phallus_impudicus', 'bergamot', 'lavender_vera_oil', 'nigra_oil', 'guava', 'bisabol_myrrh', 'seseli_sibiricum', 'pinus_jeffreyi', 'lantana_camara_oil', 'black_tea_oil', 'grapefruit_juice', 'eucalyptus_cinereea', 'chamaecyparis_lawsoniana', 'dried_fig', 'petasites_fragrans', 'grapefruit_blossom', 'eucalyptus_microcorys_leaf_oil', 'datura_stramonium', 'neroli', 'pinus_communis_oil', 'melaleuca_bracteata', 'mulberry_leaf', 'rhus_cotinus_leaf', 'lauraceae', 'lily_oil', 'dwarf_pine', 'dalbergia_sissoo', 'roquefort_cheese', 'lingonberry_juice', 'fish_oil', 'castoreum_oil', 'hevea_brasiliensis_flower', 'herring', 'crownberry', 'lean_fish', 'naranjilla', 'currant_leaf', 'prunus_laurocerasus', 'east_african_geranium', 'bitter_orange_oil', 'loquat', 'agaricus', 'krill', 'marjoram_oil', 'citrus_fruit_blossom', 'hinoki', 'malt', 'enokidake', 'hedychium_spicatum', 'raisin', 'eucalyptus_globulus_oil', 'copaiba_balsam', 'american_pennyroyal', 'durian', 'ormenis_multicaulis', 'temoe_lawak', 'ledum_palustre_oil', 'juniperus_chinensis_oil', 'chamaecyparis_formosensis_root_oil', 'plant', 'zanthoxylum_piperitum_fruit_oil', 'leptospermum_liversidgei', 'caucas', 'eucalyptus_macarthuri_oil', 'mangosteen', 'bulgarian_rose', 'mentha_longifolia_oil', 'roasted_lamb', 'hoary_basil_leaf_oil', 'muscat_grape', 'phebalium_dentatum', 'tea_tree_oil', 'turmeric', 'laurel_leaf_oil', 'pinus_sylvestris_oil', 'siberian_pine_needle_oil', 'seychelles_tea', 'curcuma_aromatica', 'corn_salad', 'cajeput', 'katsuobushi', 'raw_beef', 'south_african_mentha_longifolia', 'mutton_liver', 'ouzo', 'burley_tobacco_oil', 'nobiru', 'orthodon_citraliferum', 'skim_milk', 'wasabi', 'bulgarian_peppermint', 'muskmelon', 'phebalium_dentatum_leaf', 'corn_tortilla', 'juniper_berry', 'vetiver', 'chicken_broth', 'tangerine_oil', 'boronia_ledifolia_leaf', 'fish', 'elsholtzia_ciliata_oil', 'ruta_pinnata_leaf_oil', 'apricot_kernel', 'lemongrass', 'flower', 'garcia_mangostana', 'carob_fruit', 'roasted_nut', 'rhus_semialata', 'bilberry_wine', 'quince', 'mexican_goosefoot', 'benzoin_resin', 'cockroach', 'eucalyptus_macarthurii', 'cherimoya', 'tobacco_leaf', 'algae', 'petitgrain_bergamot', 'concord_grape', 'rice_husk', 'eucalyptus_polibrac_tea_oil', 'sweet_basil', 'fruit', 'coffee_flower', 'fumaria_officinalis', 'russian_peppermint_oil', 'pennyroyal_oil', 'japanese_hop', 'black_tea', 'narcissus', 'mountain_papaya', 'juniperus_sabina', 'orange_flower', 'myrocarpus_frondosus', 'smoked_pork_belly', 'scallion', 'melaleuca_trichostachya_oil', 'wintergreen_oil', 'banana', 'rhodotorula_glutinis', 'dried_parsley', 'beechwood_tar', 'lavandin_oil', 'gruyere_cheese', 'blackberry_brandy', 'haddock', 'trametes_graveolens', 'piper_chaba', 'onion_juice', 'kiwi', 'mutton', 'horseradish_oil', 'corn_grit', 'stirlingia_latifolia', 'lavandin', 'sherry', 'roasted_green_tea', 'zucchini', 'litsea_zeylanica', 'nepeta_japonica', 'cognac_oil', 'salmon', 'russian_champagne', 'cigarette', 'mace', 'oyster', 'soybean_oil', 'raspberry_brandy', 'tuber', 'rancid_coconut_oil', 'brewed_tea', 'roasted_onion', 'cumin_fruit_oil', 'thuja_plicata', 'roselle', 'ceylon_cinnamon', 'japanese_star_anise', 'backhousia_citriodora_oil', 'eucalyptus_goniocalyx', 'fried_beef', 'oak_tar_oil', 'larix_deciduas', 'cupressus_lusitanica', 'japanese_whiskey', 'ashanti_pepper', 'saigon_cinnamon', 'long_pepper', 'orthodon_methylisoeugenoliferum_oil', 'roasted_malt', 'calytrix_tetragona', 'mastic_gum', 'lemon_eucalyptus', 'psilocaulon_absimile', 'honduras_peru_balsam', 'onion_oil', 'cloudberry_oil', 'polianthes_tuberosa_oil', 'sweet_grass_oil', 'mint_oil', 'cymbopogon_citralis_oil', 'ambrette_seed', 'orthodon_methylisoeugenoliferum', 'american_cranberry', 'chenopodium', 'elderberry', 'sperm_whale_oil', 'citrus_oil', 'champaca', 'jerusalem_artichoke', 'eucalyptus_citridora', 'ligusticum_acutilobum', 'pennyroyal', 'bergamot_peel_oil', 'cubeb', 'east_indian_geranium', 'blue_cheese', 'geraniaceae', 'asarum_arifolium_root_oil', 'silk_fibrooin', 'olive_oil', 'kencur_oil', 'scallop', 'pear_brandy', 'picea_balsamea_oil', 'provolone_cheese', 'monarda_citriodora_oil', 'abies_sibirica', 'artemisia_ferganensis', 'red_algae', 'buttermilk', 'palm_fruit', 'vietnamese_black_tea', 'micromeria_abyssinica', 'tangerine_peel_oil', 'wild_bergamot_oil', 'burley_tobacco', 'liver', 'wild_bergamot', 'picea_canadensis', 'feronia_elephantum', 'petitgrain_bigarade', 'cabernet_sauvignon_grape', 'capsicum', 'potato_chip', 'carnation_oil', 'oriental_storax', 'houttuynia_cordata_oil', 'black_currant', 'french_bean', 'smoked_fatty_fish', 'origanum_oil', 'scotch_spearmint', 'populus_balsamifera', 'fruit_juice', 'mandarin_oil', 'ewe', 'chicory', 'cayenne_bois_de_rose', 'california_laurel_oil', 'chinese_quince_peel', 'andropogon_gragrans', 'cabbage_juice', 'baeckea_citriodora', 'fried_cured_pork', 'cucumber', 'pimento', 'pimenta', 'cruciferae_seed', 'sumac', 'mentha_aquatica', 'feces', 'oak_musk', 'crayfish', 'sauvignon_blanc_grape', 'roasted_pork', 'unprocessed_rice', 'andropogon_jwarancusa', 'atropa_belladonna_leaf', 'barosma_crenulata', 'orthodon_linalooliferum', 'horseradish', 'roasted_shrimp', 'kumquat', 'holy_basil', 'chinese_quince', 'asperula_odorosa', 'callitris_drummondii', 'peru_balsam', 'muscat_grape_juice', 'beet_root', 'thymus_caespeititius', 'jackfruit', 'oxidized_skim_milk', 'cooked_apple', 'german_chamomile_oil', 'ceylon_tea_citronella_oil', 'demon_red', 'eel', 'caraway_seed', 'abies_balsamea_oil', 'scotch_whiskey', 'pilchard', 'horse_mackerel', 'palm', 'salvia_grandifiora_oil', 'beef_tallow', 'lard', 'ananas_sativus', 'pea', 'rum', 'jaborandi_leaf_oil', 'rue', 'raw_peanut', 'corn_mint_oil', 'raspberry', 'pelargonium', 'smoked_salmon', 'acacia_farnesiana', 'oatmeal', 'rhododendron_fauriae_leaf', 'turkmenistan_sunguli_oil', 'chamomile_oil', 'israeli_orange', 'pine_oil', 'japanese_peppermint_oil', 'thaumatococcus_daniellii', 'melilotus_officinalis_flower', 'french_fried_potato', 'cinnamomum_oliveri_leaf', 'parsnip', 'pelargonium_tomentosum', 'atropa_belladonna_root', 'creosote', 'vegetable_oil', 'green_bell_pepper', 'beef_liver', 'banana_passion_fruit', 'cream_cheese', 'oat_groat', 'jonquil_oil', 'apricot', 'peppermint', 'cassia_oil', 'sea_algae', 'pinus_avium_fruit', 'dill', 'bay_laurel', 'rotundifolia', 'rose_wine', 'cardamom_oil', 'sandalwood', 'satsuma', 'lemon', 'peach', 'saffron', 'ananas_sativus_oil', 'pinto_bean', 'callitris_intratropica', 'labiatae', 'eucalyptus_radiata_oil', 'mustard', 'kaffir_lime', 'gardenia', 'strawberry_juice', 'cistus_labdanum', 'cuttlefish', 'abies_sibirica_oil', 'clove_oil', 'emmental_cheese', 'guarana', 'juniper_oil', 'pinus_punulio', 'wheat_bread', 'cured_ham', 'artemisia_dracunculus_oil', 'melaleuca_paucifiora_oil', 'callitris_gracilis', 'cabernet_sauvignon_wine', 'bulgarian_tobacco', 'hog_plum', 'peanut', 'geranium', 'dried_kidney_bean', 'schizandra_nigra_oil', 'toasted_oat_groat', 'sage', 'cinnamomum_kanahirain', 'wheat_bran', 'curcuma', 'smoked_fish', 'cinnamomum_oil', 'oxystigma_buccholtzii_flower', 'fruit_brandy', 'asparagus', 'artemisia_herba_alba', 'japanese_star_anise_oil', 'artemisia_brevifolia', 'myrtleberry', 'wheat', 'gastrochilus_pandurata_oil', 'grape_must', 'tarragon', 'soy_sauce', 'mentha_timija', 'oxidized_lard', 'southern_pea', 'rosaceae', 'vinegar', 'mammee', 'rhus_glabra', 'tea_leaf_oil', 'wood_tar', 'popcorn', 'mussel', 'peppermint_oil', 'apple', 'echinacea', 'lime', 'robinia_pseudoacacia_oil', 'rutabaga', 'eucalyptus_australianavar_oil', 'liatris_odoratissima', 'crab', 'alpinia_malaccensis_oil', 'raw_fish', 'thuja_standishii', 'tangerine', 'citrus_juice', 'french_marigold_oil', 'bitter_almond_oil', 'cayenne_rosewood', 'lamb_liver', 'raw_soybean_oil', 'myrcia_acris', 'carrot', 'bystropogon_mollis_leaf_oil', 'callitris', 'roasted_barley', 'tuberose', 'lamb', 'violet_leaf_oil', 'wood_apple', 'rhubarb', 'custard_apple', 'russian_cheese', 'animal', 'pelargonium_capitaux', 'angelica_root', 'darwinia_grandiflora_oil', 'persea_gratissima_peel', 'kohlrabi', 'cardamom', 'rhodophyllus_icterus', 'mozzarella_cheese', 'rye_ergot', 'cabbage', 'pork_sausage', 'armenian_muscat_grape_oil', 'tomato', 'violet_root', 'nance', 'ylangylang', 'ocimum_viride', 'fatty_fish', 'magnolia_grandiflora', 'tobacco_flower', 'kumazasa', 'acacia_dealbata', 'peanut_oil', 'artichoke', 'ocimum_gratissimum', 'litsea_odorifera_oil', 'pawpaw', 'walnut', 'japanese_ho_leaf_oil', 'orange', 'roasted_pecan', 'abies_alba_pine_needle', 'callitris_rubusta', 'citrus', 'artemisia_frigida_oil', 'orthodon', 'roman_chamomile_oil', 'jasminum_odoratissimum_oil', 'ormenis_mixta_oil', 'coriander', 'ptychotis_ajowan_seed_oil', 'cider', 'araucaria_cunninghamii', 'malagueta_pepper', 'grilled_pork', 'ambrette', 'ceylon_citronella', 'lilac', 'litsea_cubeba_oil', 'lentil', 'pinanona', 'whole_grain_wheat_flour', 'luraceae_oil', 'mate', 'barley', 'pepino_melon', 'sparkling_wine', 'jasmine_tea', 'pinus_sabiniana', 'caesalpinia_spinosa', 'monarda_punctata_oil', 'agathosma_gnidioides_leaf_oil', 'wild_raspberry', 'angelica_seed', 'coprosma_foetidissima_leaf', 'bell_pepper', 'artemisia_santolinifolia_oil', 'tahiti_vanilla', 'kaempferia_ethel_bulb_oil', 'rooibus_tea', 'romano_cheese', 'beech_tar_creosote', 'eryngium_facidum', 'lemon_flower', 'java_citronella_oil', 'alcoholic_beverage', 'sapodilla_fruit', 'chinese_cabbage', 'shallot', 'heracleum_candicans_oil', 'udo', 'kola_nut', 'rum_brandy', 'prune', 'myrtus_communis', 'safflower_seed', 'camphor_oil', 'cowberry', 'melaleuca_bracteata_leaf', 'bilberry', 'uncured_pork', 'betel', 'raw_radish', 'clove', 'hoary_basil', 'bone_oil', 'thymbra_spicata_oil', 'ginger_grass', 'chestnut_flower', 'trifolium_incarnatum', 'rose_hip', 'vervain', 'salmon_oil', 'raw_potato', 'russian_anise', 'eucalyptus_bakeries_oil', 'jasminum_grandiflorum_oil', 'matsutake', 'tolu_balsam', 'seaweed', 'sour_cherry', 'chicken', 'rhus_typhia', 'california_lemon_oil', 'alpinia_sessilis', 'artemisae_oil', 'bog_blueberry', 'starch', 'raw_turkey', 'welsh_onion', 'piper_lowong', 'bean', 'picea_rubens', 'plum_wine', 'bourbon_whiskey', 'chicory_root', 'tobacco', 'sea_bass', 'rosemary_oil', 'nutmeg', 'phellodendron_amurense_fruit', 'baeckea_citriodora_oil', 'cupressaceae', 'apple_juice', 'violet', 'roasted_spanish_peanut', 'rose_flower_oil', 'furcraea_gigantean_flower_oil', 'caprifoliaceae', 'japanese_plum', 'wheat_flake', 'uncured_smoked_pork', 'cauliflower', 'finnish_pine_oil', 'sassafras', 'prickly_pear', 'guinea_pepper', 'black_raspberry', 'picea_alba_oil', 'grain', 'split_pea', 'marjoram', 'tobacco_leaf_oil', 'litsea_cubeba', 'oregano', 'parsnip_fruit', 'anise_seed_oil', 'rhizopus', 'valerian_root_oil', 'neroli_oil', 'arnica_montana', 'tangerine_juice', 'yam', 'verbenaceae', 'abies_alba', 'hyacinth', 'cypress', 'fennel_oil', 'wood', 'satureia_montana', 'liquidambar_orientalis_storax', 'vanilla', 'raw_leek', 'thaumatococcus_daniellii_fruit', 'chokeberry', 'pork_liver', 'salvia_triloba_oil', 'grapefruit_peel_oil', 'ambrette_seed_oil', 'squid', 'wild_marjoram', 'israeli_orange_oil', 'roasted_filbert', 'aristolochia_clematitis', 'sesame_seed', 'laurel_leaf', 'guinea_orange_oil', 'fenugreek', 'balm', 'lilium_candidum_flower', 'black_currant_bud', 'french_peppermint', 'whale', 'broccoli', 'feta_cheese', 'water_apple', 'crowberry', 'camphor', 'hatsutake', 'texas_sage', 'white_wine', 'laurel', 'cymbopogon_sennaarensis', 'pinaceae', 'azalea', 'magnolia_fuscata', 'violet_flower', 'roasted_coconut', 'nira', 'daffodil_flower', 'malay_apple', 'peated_malt', 'berry_juice', 'weinbrand', 'cayenne_linaloe', 'almond_flower', 'raw_fatty_fish', 'black_currant_juice', 'lovage', 'onion', 'mindanaese_cinnamomum_oil', 'star_anise', 'lippia_scaberrima', 'rhus_coriaria', 'strawberry_wine', 'silkworm_chrysalis', 'pinus_jeffreyi_leaf_oil', 'ceylon_tea_oil', 'wheaten_bread', 'andropogon_intermedius', 'blumea_eriantha_oil', 'jasminum_grandiflorum', 'achillea_millefolium', 'thuja_occidentalis_oil', 'lime_oil', 'orthodon_asaroniferum_oil', 'barosma_venustum', 'lippia_carviodora', 'leaf', 'melaleuca_viridiflora', 'parsnip_root', 'neroli_bigarade', 'truffle', 'thymus_oil', 'pepper', 'rangpur', 'coal_tar', 'champagne_wine', 'roasted_chicken', 'pike', 'ambergris_oil', 'black_bean', 'ocotea_usambarensis_oil', 'passiflora_edulis', 'cranberry', 'mandarin_peel', 'citron', 'spanish_anise', 'green_tea', 'vitis_labrusca_oil', 'plumcot', 'cocoa', 'dill_blossom', 'monkey_orange', 'spirea_ulmaria_oil', 'maize', 'ruta_montana_oil', 'rosa_rugosa', 'caviar', 'beer', 'elderberry_fruit', 'rose_apple', 'sturgeon_caviar', 'bitter_almond', 'valerian', 'algerian_geranium_oil', 'thymus_mastichina', 'citrus_flower_oil', 'lime_peel_oil', 'artemisia', 'compositae', 'daffodil', 'valeriana_officinalis', 'orris_oil', 'origanum_floribundum', 'persea_pubescens', 'condiment', 'lilac_flower_oil', 'white_currant_juice', 'pouching_tea', 'raw_cabbage', 'boiled_mutton', 'filipendula_ulmaria_flower', 'cascarilla', 'cashew', 'rue_oil', 'oat', 'cajeput_oil', 'fermented_shrimp', 'feijoa', 'tobacco_oil', 'cinnamon_leaf', 'chempedak', 'artemisia_porrecta_oil', 'munster_cheese']\n"
     ]
    }
   ],
   "source": [
    "from collections import defaultdict\n",
    "import numpy as np\n",
    "\n",
    "ingr_flavor_mapping = pd.read_csv(\"Data/ingr_comp.tsv\",sep=\"\\t\")\n",
    "ingr_labels = pd.read_csv(\"Data/ingr_info.tsv\",sep=\"\\t\")\n",
    "flavor_labels = pd.read_csv(\"Data/comp_info.tsv\",sep=\"\\t\")\n",
    "\n",
    "ingr_flavor_map = np.zeros((ingr_labels.shape[0],flavor_labels.shape[0]))\n",
    "\n",
    "ingr_map = dict()\n",
    "for row in ingr_labels.iterrows():\n",
    "    ingr_map[row[1][1]] = row[1][0]\n",
    "\n",
    "for row in ingr_flavor_mapping.iterrows():\n",
    "    ingr_flavor_map[row[1][0],row[1][1]] = 1\n",
    "\n",
    "rsums = ingr_flavor_map.sum(axis = 1)\n",
    "ingr_flavor_map = ingr_flavor_map / rsums[:,np.newaxis]\n",
    "\n",
    "print ingr_map.keys()"
   ]
  },
  {
   "cell_type": "code",
   "execution_count": 74,
   "metadata": {
    "collapsed": false
   },
   "outputs": [
    {
     "name": "stdout",
     "output_type": "stream",
     "text": [
      "   0  1  2\n",
      "a  1  2  3\n",
      "c  7  8  9\n",
      "b  4  5  6\n",
      "   a  c  b\n",
      "0  1  7  4\n",
      "1  2  8  5\n",
      "2  3  9  6\n"
     ]
    },
    {
     "data": {
      "text/html": [
       "<div>\n",
       "<table border=\"1\" class=\"dataframe\">\n",
       "  <thead>\n",
       "    <tr style=\"text-align: right;\">\n",
       "      <th></th>\n",
       "      <th>0</th>\n",
       "      <th>1</th>\n",
       "      <th>2</th>\n",
       "      <th>a</th>\n",
       "      <th>b</th>\n",
       "      <th>c</th>\n",
       "    </tr>\n",
       "  </thead>\n",
       "  <tbody>\n",
       "    <tr>\n",
       "      <th>0</th>\n",
       "      <td>NaN</td>\n",
       "      <td>NaN</td>\n",
       "      <td>NaN</td>\n",
       "      <td>NaN</td>\n",
       "      <td>NaN</td>\n",
       "      <td>NaN</td>\n",
       "    </tr>\n",
       "    <tr>\n",
       "      <th>1</th>\n",
       "      <td>NaN</td>\n",
       "      <td>NaN</td>\n",
       "      <td>NaN</td>\n",
       "      <td>NaN</td>\n",
       "      <td>NaN</td>\n",
       "      <td>NaN</td>\n",
       "    </tr>\n",
       "    <tr>\n",
       "      <th>2</th>\n",
       "      <td>NaN</td>\n",
       "      <td>NaN</td>\n",
       "      <td>NaN</td>\n",
       "      <td>NaN</td>\n",
       "      <td>NaN</td>\n",
       "      <td>NaN</td>\n",
       "    </tr>\n",
       "    <tr>\n",
       "      <th>a</th>\n",
       "      <td>NaN</td>\n",
       "      <td>NaN</td>\n",
       "      <td>NaN</td>\n",
       "      <td>NaN</td>\n",
       "      <td>NaN</td>\n",
       "      <td>NaN</td>\n",
       "    </tr>\n",
       "    <tr>\n",
       "      <th>b</th>\n",
       "      <td>NaN</td>\n",
       "      <td>NaN</td>\n",
       "      <td>NaN</td>\n",
       "      <td>NaN</td>\n",
       "      <td>NaN</td>\n",
       "      <td>NaN</td>\n",
       "    </tr>\n",
       "    <tr>\n",
       "      <th>c</th>\n",
       "      <td>NaN</td>\n",
       "      <td>NaN</td>\n",
       "      <td>NaN</td>\n",
       "      <td>NaN</td>\n",
       "      <td>NaN</td>\n",
       "      <td>NaN</td>\n",
       "    </tr>\n",
       "  </tbody>\n",
       "</table>\n",
       "</div>"
      ],
      "text/plain": [
       "    0   1   2   a   b   c\n",
       "0 NaN NaN NaN NaN NaN NaN\n",
       "1 NaN NaN NaN NaN NaN NaN\n",
       "2 NaN NaN NaN NaN NaN NaN\n",
       "a NaN NaN NaN NaN NaN NaN\n",
       "b NaN NaN NaN NaN NaN NaN\n",
       "c NaN NaN NaN NaN NaN NaN"
      ]
     },
     "execution_count": 74,
     "metadata": {},
     "output_type": "execute_result"
    }
   ],
   "source": [
    "d = {'a':[1,2,3],'b':[4,5,6],'c':[7,8,9]}\n",
    "df = pd.DataFrame.from_dict(d,orient = 'index')\n",
    "print df\n",
    "print df.transpose()\n",
    "#from sklearn.neighbors import NearestNeighbors\n",
    "#model = NearestNeighbors(n_neighbors = 10)\n",
    "\n",
    "#model.fit(d)\n",
    "\n",
    "df.multiply(df.transpose())\n"
   ]
  },
  {
   "cell_type": "code",
   "execution_count": 64,
   "metadata": {
    "collapsed": false
   },
   "outputs": [
    {
     "data": {
      "text/plain": [
       "(2, 3)"
      ]
     },
     "execution_count": 64,
     "metadata": {},
     "output_type": "execute_result"
    }
   ],
   "source": [
    "x = defaultdict(int)\n",
    "x['a'] = 1\n",
    "x['b'] = 2\n",
    "\n",
    "y = defaultdict(int)\n",
    "y['a'] = 1\n",
    "y['c'] = 2\n",
    "\n",
    "df = pd.DataFrame.from_dict([x,y])\n",
    "\n",
    "df.shape"
   ]
  }
 ],
 "metadata": {
  "kernelspec": {
   "display_name": "Python 2",
   "language": "python",
   "name": "python2"
  },
  "language_info": {
   "codemirror_mode": {
    "name": "ipython",
    "version": 2
   },
   "file_extension": ".py",
   "mimetype": "text/x-python",
   "name": "python",
   "nbconvert_exporter": "python",
   "pygments_lexer": "ipython2",
   "version": "2.7.11"
  }
 },
 "nbformat": 4,
 "nbformat_minor": 0
}
