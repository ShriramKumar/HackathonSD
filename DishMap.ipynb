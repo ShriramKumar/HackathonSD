{
 "cells": [
  {
   "cell_type": "code",
   "execution_count": 22,
   "metadata": {
    "collapsed": false
   },
   "outputs": [],
   "source": [
    "#Getting the data\n",
    "import pandas as pd\n",
    "from sets import Set\n",
    "\n",
    "df = pd.read_csv(\"srep00196-s2.csv\",header=None)\n",
    "unique_ingredients = [i for i in df[0].unique()]\n",
    "unique_ingredients = set(unique_ingredients + [i for i in df[1].unique()])\n",
    "\n",
    "with open(\"Ingredients.csv\",\"w\") as f:\n",
    "    for i in unique_ingredients:\n",
    "        f.write(i + '\\n')\n",
    "\n",
    "#print unique_ingredients\n",
    "#print unique_ingredients.pop()\n",
    "#unique_ingredients = "
   ]
  }
 ],
 "metadata": {
  "kernelspec": {
   "display_name": "Python 2",
   "language": "python",
   "name": "python2"
  },
  "language_info": {
   "codemirror_mode": {
    "name": "ipython",
    "version": 2
   },
   "file_extension": ".py",
   "mimetype": "text/x-python",
   "name": "python",
   "nbconvert_exporter": "python",
   "pygments_lexer": "ipython2",
   "version": "2.7.11"
  }
 },
 "nbformat": 4,
 "nbformat_minor": 0
}
